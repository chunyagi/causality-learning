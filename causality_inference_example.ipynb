{
 "cells": [
  {
   "cell_type": "markdown",
   "metadata": {},
   "source": [
    "# Estimating Causal Effect of Graduate Education on Income"
   ]
  },
  {
   "cell_type": "markdown",
   "metadata": {},
   "source": [
    "## Import libraries"
   ]
  },
  {
   "cell_type": "code",
   "execution_count": 1,
   "metadata": {},
   "outputs": [
    {
     "name": "stderr",
     "output_type": "stream",
     "text": [
      "/Users/edison/Git/causality-learning/venv/lib/python3.10/site-packages/tqdm/auto.py:21: TqdmWarning: IProgress not found. Please update jupyter and ipywidgets. See https://ipywidgets.readthedocs.io/en/stable/user_install.html\n",
      "  from .autonotebook import tqdm as notebook_tqdm\n"
     ]
    }
   ],
   "source": [
    "import pickle\n",
    "import matplotlib.pyplot as plt\n",
    "import pandas as pd\n",
    "\n",
    "import econml\n",
    "import dowhy\n",
    "from dowhy import CausalModel\n",
    "\n",
    "from sklearn.ensemble import RandomForestRegressor"
   ]
  },
  {
   "cell_type": "markdown",
   "metadata": {},
   "source": [
    "## Load data"
   ]
  },
  {
   "cell_type": "code",
   "execution_count": 2,
   "metadata": {},
   "outputs": [
    {
     "name": "stdout",
     "output_type": "stream",
     "text": [
      "[INFO] Using pandas version: 2.2.3\n",
      "[INFO] Downgrading pandas to 1.5 to load the data...\n",
      "Channels:\n",
      " - defaults\n",
      " - conda-forge\n",
      "Platform: osx-arm64\n",
      "Collecting package metadata (repodata.json): ...working... done\n",
      "Solving environment: ...working... done\n",
      "\n",
      "## Package Plan ##\n",
      "\n",
      "  environment location: /Users/edison/Git/causality-learning/venv\n",
      "\n",
      "  added / updated specs:\n",
      "    - pandas=1.5\n",
      "\n",
      "\n",
      "The following packages will be DOWNGRADED:\n",
      "\n",
      "  pandas                              2.2.3-py310hcf29cfe_0 --> 1.5.3-py310h46d7db6_0 \n",
      "\n",
      "\n",
      "Preparing transaction: ...working... done\n",
      "Verifying transaction: ...working... done\n",
      "Executing transaction: ...working... done\n"
     ]
    },
    {
     "name": "stderr",
     "output_type": "stream",
     "text": [
      "/Users/edison/Git/causality-learning/venv/lib/python3.10/site-packages/IPython/core/formatters.py:406: FutureWarning: Index.format is deprecated and will be removed in a future version. Convert using index.astype(str) or index.map(formatter) instead.\n",
      "  return method()\n",
      "/Users/edison/Git/causality-learning/venv/lib/python3.10/site-packages/IPython/core/formatters.py:406: FutureWarning: Int64Index.format is deprecated and will be removed in a future version. Convert using index.astype(str) or index.map(formatter) instead.\n",
      "  return method()\n"
     ]
    },
    {
     "data": {
      "text/html": [
       "<div>\n",
       "<style scoped>\n",
       "    .dataframe tbody tr th:only-of-type {\n",
       "        vertical-align: middle;\n",
       "    }\n",
       "\n",
       "    .dataframe tbody tr th {\n",
       "        vertical-align: top;\n",
       "    }\n",
       "\n",
       "    .dataframe thead th {\n",
       "        text-align: right;\n",
       "    }\n",
       "</style>\n",
       "<table border=\"1\" class=\"dataframe\">\n",
       "  <thead>\n",
       "    <tr style=\"text-align: right;\">\n",
       "      <th></th>\n",
       "      <th>age</th>\n",
       "      <th>hasGraduateDegree</th>\n",
       "      <th>greaterThan50k</th>\n",
       "    </tr>\n",
       "  </thead>\n",
       "  <tbody>\n",
       "    <tr>\n",
       "      <th>0</th>\n",
       "      <td>39</td>\n",
       "      <td>False</td>\n",
       "      <td>False</td>\n",
       "    </tr>\n",
       "    <tr>\n",
       "      <th>1</th>\n",
       "      <td>50</td>\n",
       "      <td>False</td>\n",
       "      <td>False</td>\n",
       "    </tr>\n",
       "    <tr>\n",
       "      <th>2</th>\n",
       "      <td>38</td>\n",
       "      <td>False</td>\n",
       "      <td>False</td>\n",
       "    </tr>\n",
       "    <tr>\n",
       "      <th>3</th>\n",
       "      <td>53</td>\n",
       "      <td>False</td>\n",
       "      <td>False</td>\n",
       "    </tr>\n",
       "    <tr>\n",
       "      <th>5</th>\n",
       "      <td>37</td>\n",
       "      <td>True</td>\n",
       "      <td>False</td>\n",
       "    </tr>\n",
       "  </tbody>\n",
       "</table>\n",
       "</div>"
      ],
      "text/plain": [
       "   age  hasGraduateDegree  greaterThan50k\n",
       "0   39              False           False\n",
       "1   50              False           False\n",
       "2   38              False           False\n",
       "3   53              False           False\n",
       "5   37               True           False"
      ]
     },
     "execution_count": 2,
     "metadata": {},
     "output_type": "execute_result"
    }
   ],
   "source": [
    "try:\n",
    "    print(f\"[INFO] Using pandas version: {pd.__version__}\")\n",
    "    with open(\"data/df_causal_inference.p\", \"rb\") as f:\n",
    "        df = pickle.load(f)\n",
    "except:\n",
    "    print(\"[INFO] Downgrading pandas to 1.5 to load the data...\")\n",
    "    !conda install -q -y pandas=1.5\n",
    "    with open(\"data/df_causal_inference.p\", \"rb\") as f:\n",
    "        df = pickle.load(f)\n",
    "\n",
    "df.head()"
   ]
  },
  {
   "cell_type": "markdown",
   "metadata": {},
   "source": [
    "## Estimating causal effects with `dowhy`\n",
    "\n",
    "Workflow for estimating causal effects:\n",
    "1. Collect data\n",
    "2. Define a causal model (via casual discovery)\n",
    "3. Identify the statistical estimands\n",
    "4. Build a model to estimate the causal effects"
   ]
  },
  {
   "cell_type": "markdown",
   "metadata": {},
   "source": [
    "### 1. Define causal model"
   ]
  },
  {
   "cell_type": "code",
   "execution_count": 3,
   "metadata": {},
   "outputs": [
    {
     "data": {
      "text/plain": [
       "<dowhy.causal_model.CausalModel at 0x16768e020>"
      ]
     },
     "execution_count": 3,
     "metadata": {},
     "output_type": "execute_result"
    }
   ],
   "source": [
    "model = CausalModel(\n",
    "    data=df,\n",
    "    treatment=\"hasGraduateDegree\",\n",
    "    outcome=\"greaterThan50k\",\n",
    "    common_causes=\"age\"\n",
    ")\n",
    "model"
   ]
  },
  {
   "cell_type": "code",
   "execution_count": 4,
   "metadata": {},
   "outputs": [
    {
     "data": {
      "image/png": "[encoded data removed]",
      "text/plain": [
       "<Figure size 800x600 with 1 Axes>"
      ]
     },
     "metadata": {},
     "output_type": "display_data"
    }
   ],
   "source": [
    "# View the model\n",
    "model.view_model()"
   ]
  },
  {
   "cell_type": "markdown",
   "metadata": {},
   "source": [
    "**Note**: The DAG has a fork structure, i.e. `age` (confounder) is a common cause of both the `hasGraduateDegree` (treatment) and `greaterThan50k` (outcome). To compute the causal effect of `hasGraduateDegree` on `greaterThan50k`, we must adjust for `age`."
   ]
  },
  {
   "cell_type": "markdown",
   "metadata": {},
   "source": [
    "### 2. Generate a statistical estimand\n",
    "\n",
    "In step 2., we try to identifiy a statistical estimand from the data with `CausalModel.identify_effect()`. It applies graphical identification rules (e.g. backdoor, frontdoor, etc.) to your causal model to decide whether the causal effect is identifiable from the observational data. If the graphical shortcuts don't work, the library will fall back to full do-calculus or ID algorithm."
   ]
  },
  {
   "cell_type": "code",
   "execution_count": 5,
   "metadata": {},
   "outputs": [
    {
     "name": "stdout",
     "output_type": "stream",
     "text": [
      "Estimand type: EstimandType.NONPARAMETRIC_ATE\n",
      "\n",
      "### Estimand : 1\n",
      "Estimand name: backdoor\n",
      "Estimand expression:\n",
      "         d                                 \n",
      "────────────────────(E[greaterThan50k|age])\n",
      "d[hasGraduateDegree]                       \n",
      "Estimand assumption 1, Unconfoundedness: If U→{hasGraduateDegree} and U→greaterThan50k then P(greaterThan50k|hasGraduateDegree,age,U) = P(greaterThan50k|hasGraduateDegree,age)\n",
      "\n",
      "### Estimand : 2\n",
      "Estimand name: iv\n",
      "No such variable(s) found!\n",
      "\n",
      "### Estimand : 3\n",
      "Estimand name: frontdoor\n",
      "No such variable(s) found!\n",
      "\n"
     ]
    }
   ],
   "source": [
    "# Identify the statistical estimand from data\n",
    "identified_estimand = model.identify_effect(proceed_when_unidentifiable=True)\n",
    "print(identified_estimand)"
   ]
  },
  {
   "cell_type": "markdown",
   "metadata": {},
   "source": [
    "### 3. Estimate the causal effect using meta-learner\n",
    "\n",
    "After identification, we can estimate the causal effect with `CausalModel.estimate_effect()` with a specified model."
   ]
  },
  {
   "cell_type": "code",
   "execution_count": 6,
   "metadata": {},
   "outputs": [
    {
     "name": "stderr",
     "output_type": "stream",
     "text": [
      "A column-vector y was passed when a 1d array was expected. Please change the shape of y to (n_samples, ), for example using ravel().\n"
     ]
    },
    {
     "name": "stdout",
     "output_type": "stream",
     "text": [
      "*** Causal Estimate ***\n",
      "\n",
      "## Identified estimand\n",
      "Estimand type: EstimandType.NONPARAMETRIC_ATE\n",
      "\n",
      "### Estimand : 1\n",
      "Estimand name: backdoor\n",
      "Estimand expression:\n",
      "         d                                 \n",
      "────────────────────(E[greaterThan50k|age])\n",
      "d[hasGraduateDegree]                       \n",
      "Estimand assumption 1, Unconfoundedness: If U→{hasGraduateDegree} and U→greaterThan50k then P(greaterThan50k|hasGraduateDegree,age,U) = P(greaterThan50k|hasGraduateDegree,age)\n",
      "\n",
      "## Realized estimand\n",
      "b: greaterThan50k~hasGraduateDegree+age\n",
      "Target units: ate\n",
      "\n",
      "## Estimate\n",
      "Mean value: 0.20135600438050938\n",
      "Effect estimates: [[ 0.30374205]\n",
      " [ 0.21101982]\n",
      " [ 0.33679736]\n",
      " ...\n",
      " [ 0.15445394]\n",
      " [-0.01467145]\n",
      " [ 0.1947442 ]]\n",
      "\n"
     ]
    }
   ],
   "source": [
    "# Estimate the causal effect\n",
    "metalearner_estimate = model.estimate_effect(\n",
    "    identified_estimand=identified_estimand,\n",
    "    method_name=\"backdoor.econml.metalearners.TLearner\",\n",
    "    confidence_intervals=False,\n",
    "    method_params={\n",
    "        \"init_params\":{\n",
    "            \"models\": RandomForestRegressor()\n",
    "        },\n",
    "        \"fit_params\": {}\n",
    "    }\n",
    ")\n",
    "print(metalearner_estimate)"
   ]
  },
  {
   "cell_type": "code",
   "execution_count": 7,
   "metadata": {},
   "outputs": [
    {
     "name": "stdout",
     "output_type": "stream",
     "text": [
      "The estimated Average Treatment Effect (ATE): 0.20135600438050938\n",
      "The first 5 estimated Indivial Treatment Effect (ITE): [[0.30374205]\n",
      " [0.21101982]\n",
      " [0.33679736]\n",
      " [0.48369778]\n",
      " [0.28323353]]\n"
     ]
    }
   ],
   "source": [
    "ite = metalearner_estimate.estimator.effect(df)\n",
    "\n",
    "print(f\"The estimated Average Treatment Effect (ATE): {metalearner_estimate.value}\")\n",
    "print(f\"The first 5 estimated Indivial Treatment Effect (ITE): {ite[:5]}\")"
   ]
  },
  {
   "cell_type": "markdown",
   "metadata": {},
   "source": [
    "**Note:** The estimated causal effect (ATE) is approx. 0.2. It can be interpeted as: Having a graduate degree will increase the chance of getting more 50k income by 20%. However, ATE is only a good estimate when it follows a Guassian distribution, therefore we need to inspect its empirical distribution."
   ]
  },
  {
   "cell_type": "code",
   "execution_count": 8,
   "metadata": {},
   "outputs": [
    {
     "data": {
      "image/png": "[encoded data removed]",
      "text/plain": [
       "<Figure size 640x480 with 1 Axes>"
      ]
     },
     "metadata": {},
     "output_type": "display_data"
    }
   ],
   "source": [
    "# Plot the histogram of causal effects for each sample\n",
    "plt.hist(ite,\n",
    "         bins=30)\n",
    "plt.xlabel(\"Indivial Treatment Effect (ITE)\")\n",
    "plt.ylabel(\"Frequency\")\n",
    "plt.title(\"Distribution of ITE (T-Learner)\")\n",
    "plt.show();"
   ]
  },
  {
   "cell_type": "markdown",
   "metadata": {},
   "source": [
    "**Note:** The distribution of ITE has multiple modes (there is a mode around 0.0), in other words, it doesn't follow the normal distribution. Therefore, the estimated ATE might not be a good estimate in this case. Further investigation is necessary on those samples with ATE around 0.0."
   ]
  }
 ],
 "metadata": {
  "kernelspec": {
   "display_name": "Python 3",
   "language": "python",
   "name": "python3"
  },
  "language_info": {
   "codemirror_mode": {
    "name": "ipython",
    "version": 3
   },
   "file_extension": ".py",
   "mimetype": "text/x-python",
   "name": "python",
   "nbconvert_exporter": "python",
   "pygments_lexer": "ipython3",
   "version": "3.10.17"
  }
 },
 "nbformat": 4,
 "nbformat_minor": 2
}
