{
 "cells": [
  {
   "cell_type": "markdown",
   "id": "a8375578",
   "metadata": {},
   "source": [
    "# Estimating Causal Effect of Graduate Education on Income with propensity score-based methods"
   ]
  },
  {
   "cell_type": "code",
   "execution_count": 49,
   "id": "8a7344aa",
   "metadata": {},
   "outputs": [],
   "source": [
    "import pickle\n",
    "\n",
    "import dowhy\n",
    "from dowhy import CausalModel\n",
    "\n",
    "import pandas as pd\n",
    "import numpy as np"
   ]
  },
  {
   "cell_type": "markdown",
   "id": "9690746b",
   "metadata": {
    "vscode": {
     "languageId": "bat"
    }
   },
   "source": [
    "## Load data"
   ]
  },
  {
   "cell_type": "code",
   "execution_count": 50,
   "id": "9966c982",
   "metadata": {},
   "outputs": [
    {
     "name": "stdout",
     "output_type": "stream",
     "text": [
      "[INFO] Using pandas version: 1.5.3\n"
     ]
    },
    {
     "data": {
      "text/html": [
       "<div>\n",
       "<style scoped>\n",
       "    .dataframe tbody tr th:only-of-type {\n",
       "        vertical-align: middle;\n",
       "    }\n",
       "\n",
       "    .dataframe tbody tr th {\n",
       "        vertical-align: top;\n",
       "    }\n",
       "\n",
       "    .dataframe thead th {\n",
       "        text-align: right;\n",
       "    }\n",
       "</style>\n",
       "<table border=\"1\" class=\"dataframe\">\n",
       "  <thead>\n",
       "    <tr style=\"text-align: right;\">\n",
       "      <th></th>\n",
       "      <th>age</th>\n",
       "      <th>hours-per-week</th>\n",
       "      <th>hasGraduateDegree</th>\n",
       "      <th>inRelationship</th>\n",
       "      <th>isWhite</th>\n",
       "      <th>isFemale</th>\n",
       "      <th>greaterThan50k</th>\n",
       "    </tr>\n",
       "  </thead>\n",
       "  <tbody>\n",
       "    <tr>\n",
       "      <th>0</th>\n",
       "      <td>39</td>\n",
       "      <td>40</td>\n",
       "      <td>0</td>\n",
       "      <td>0</td>\n",
       "      <td>1</td>\n",
       "      <td>0</td>\n",
       "      <td>0</td>\n",
       "    </tr>\n",
       "    <tr>\n",
       "      <th>1</th>\n",
       "      <td>50</td>\n",
       "      <td>13</td>\n",
       "      <td>0</td>\n",
       "      <td>1</td>\n",
       "      <td>1</td>\n",
       "      <td>0</td>\n",
       "      <td>0</td>\n",
       "    </tr>\n",
       "    <tr>\n",
       "      <th>2</th>\n",
       "      <td>38</td>\n",
       "      <td>40</td>\n",
       "      <td>0</td>\n",
       "      <td>0</td>\n",
       "      <td>1</td>\n",
       "      <td>0</td>\n",
       "      <td>0</td>\n",
       "    </tr>\n",
       "    <tr>\n",
       "      <th>3</th>\n",
       "      <td>53</td>\n",
       "      <td>40</td>\n",
       "      <td>0</td>\n",
       "      <td>1</td>\n",
       "      <td>0</td>\n",
       "      <td>0</td>\n",
       "      <td>0</td>\n",
       "    </tr>\n",
       "    <tr>\n",
       "      <th>5</th>\n",
       "      <td>37</td>\n",
       "      <td>40</td>\n",
       "      <td>1</td>\n",
       "      <td>0</td>\n",
       "      <td>1</td>\n",
       "      <td>1</td>\n",
       "      <td>0</td>\n",
       "    </tr>\n",
       "  </tbody>\n",
       "</table>\n",
       "</div>"
      ],
      "text/plain": [
       "   age  hours-per-week  hasGraduateDegree  inRelationship  isWhite  isFemale  \\\n",
       "0   39              40                  0               0        1         0   \n",
       "1   50              13                  0               1        1         0   \n",
       "2   38              40                  0               0        1         0   \n",
       "3   53              40                  0               1        0         0   \n",
       "5   37              40                  1               0        1         1   \n",
       "\n",
       "   greaterThan50k  \n",
       "0               0  \n",
       "1               0  \n",
       "2               0  \n",
       "3               0  \n",
       "5               0  "
      ]
     },
     "execution_count": 50,
     "metadata": {},
     "output_type": "execute_result"
    }
   ],
   "source": [
    "try:\n",
    "    print(f\"[INFO] Using pandas version: {pd.__version__}\")\n",
    "    with open(\"data/df_propensity_score.p\", \"rb\") as f:\n",
    "        df = pickle.load(f)\n",
    "except:\n",
    "    print(\"[INFO] Downgrading pandas to 1.5 to load the data...\")\n",
    "    !conda install -q -y pandas=1.5\n",
    "    with open(\"data/df_propensity_score.p\", \"rb\") as f:\n",
    "        df = pickle.load(f)\n",
    "\n",
    "df.head()"
   ]
  },
  {
   "cell_type": "markdown",
   "id": "3567f918",
   "metadata": {},
   "source": [
    "## Estimating causal effects with `dowhy`"
   ]
  },
  {
   "cell_type": "code",
   "execution_count": 51,
   "id": "3468f5df",
   "metadata": {},
   "outputs": [
    {
     "data": {
      "text/plain": [
       "<dowhy.causal_model.CausalModel at 0x179f34be0>"
      ]
     },
     "execution_count": 51,
     "metadata": {},
     "output_type": "execute_result"
    }
   ],
   "source": [
    "model = CausalModel(\n",
    "    data=df,\n",
    "    treatment=\"hasGraduateDegree\",\n",
    "    outcome=\"greaterThan50k\",\n",
    "    common_causes=\"age\"\n",
    ")\n",
    "model"
   ]
  },
  {
   "cell_type": "code",
   "execution_count": 52,
   "id": "60c1e891",
   "metadata": {},
   "outputs": [
    {
     "data": {
      "image/png": "[encoded data removed]",
      "text/plain": [
       "<Figure size 800x600 with 1 Axes>"
      ]
     },
     "metadata": {},
     "output_type": "display_data"
    }
   ],
   "source": [
    "# View model\n",
    "model.view_model()"
   ]
  },
  {
   "cell_type": "markdown",
   "id": "7d686c07",
   "metadata": {},
   "source": [
    "### 2. Generate a statistical estimand"
   ]
  },
  {
   "cell_type": "code",
   "execution_count": 53,
   "id": "29fcaaf8",
   "metadata": {},
   "outputs": [
    {
     "name": "stdout",
     "output_type": "stream",
     "text": [
      "Estimand type: EstimandType.NONPARAMETRIC_ATE\n",
      "\n",
      "### Estimand : 1\n",
      "Estimand name: backdoor\n",
      "Estimand expression:\n",
      "         d                                 \n",
      "────────────────────(E[greaterThan50k|age])\n",
      "d[hasGraduateDegree]                       \n",
      "Estimand assumption 1, Unconfoundedness: If U→{hasGraduateDegree} and U→greaterThan50k then P(greaterThan50k|hasGraduateDegree,age,U) = P(greaterThan50k|hasGraduateDegree,age)\n",
      "\n",
      "### Estimand : 2\n",
      "Estimand name: iv\n",
      "No such variable(s) found!\n",
      "\n",
      "### Estimand : 3\n",
      "Estimand name: frontdoor\n",
      "No such variable(s) found!\n",
      "\n"
     ]
    }
   ],
   "source": [
    "# Identify the statistical estimand from data\n",
    "identified_estimand = model.identify_effect(proceed_when_unidentifiable=True)\n",
    "print(identified_estimand)"
   ]
  },
  {
   "cell_type": "markdown",
   "id": "e366a8c0",
   "metadata": {},
   "source": [
    "## 3. Estimate causal effect (ATE) using 3 different propensity score-based appraoches\n",
    "1. Matching\n",
    "2. Stratification\n",
    "3. IPTW (Inverse probability of treatment weighting)"
   ]
  },
  {
   "cell_type": "code",
   "execution_count": null,
   "id": "09d2b0e3",
   "metadata": {},
   "outputs": [
    {
     "data": {
      "text/html": [
       "<div>\n",
       "<style scoped>\n",
       "    .dataframe tbody tr th:only-of-type {\n",
       "        vertical-align: middle;\n",
       "    }\n",
       "\n",
       "    .dataframe tbody tr th {\n",
       "        vertical-align: top;\n",
       "    }\n",
       "\n",
       "    .dataframe thead th {\n",
       "        text-align: right;\n",
       "    }\n",
       "</style>\n",
       "<table border=\"1\" class=\"dataframe\">\n",
       "  <thead>\n",
       "    <tr style=\"text-align: right;\">\n",
       "      <th></th>\n",
       "      <th>matching</th>\n",
       "      <th>stratification</th>\n",
       "      <th>weighting</th>\n",
       "    </tr>\n",
       "  </thead>\n",
       "  <tbody>\n",
       "    <tr>\n",
       "      <th>0</th>\n",
       "      <td>0.002811</td>\n",
       "      <td>0.294865</td>\n",
       "      <td>0.33124</td>\n",
       "    </tr>\n",
       "  </tbody>\n",
       "</table>\n",
       "</div>"
      ],
      "text/plain": [
       "   matching  stratification  weighting\n",
       "0  0.002811        0.294865    0.33124"
      ]
     },
     "execution_count": 45,
     "metadata": {},
     "output_type": "execute_result"
    }
   ],
   "source": [
    "# Create a list of propensity score methods\n",
    "ps_method_list = [\"matching\", \"stratification\", \"weighting\"]\n",
    "\n",
    "# Create a dictionary to store the results\n",
    "ps_estimate_dict = {}\n",
    "\n",
    "# Estimate causal effect\n",
    "for method in ps_method_list:\n",
    "    ps_estimate = model.estimate_effect(identified_estimand,\n",
    "                                        method_name=f\"backdoor.propensity_score_{method}\",\n",
    "                                        confidence_intervals=False,\n",
    "                                        method_params={})\n",
    "    # Add estimates to the dictionary\n",
    "    ps_estimate_dict[method] = ps_estimate.value\n",
    "\n",
    "# Convert the dictionary into dataframe\n",
    "ps_estimate_df = pd.DataFrame([ps_estimate_dict])\n",
    "ps_estimate_df.head()"
   ]
  },
  {
   "cell_type": "code",
   "execution_count": 48,
   "id": "d91b5a70",
   "metadata": {},
   "outputs": [
    {
     "data": {
      "text/plain": [
       "0    0.209639\n",
       "dtype: float64"
      ]
     },
     "execution_count": 48,
     "metadata": {},
     "output_type": "execute_result"
    }
   ],
   "source": [
    "# Compute mean effect across methods\n",
    "ps_estimate_df.mean(axis=1)"
   ]
  },
  {
   "cell_type": "markdown",
   "id": "b2cf024c",
   "metadata": {},
   "source": [
    "It can be interpeted as: Having a graduate degree will increase the chance of getting more 50k income by 20%.\n",
    "\n",
    "**Note:** Aggregating the causal effects across these 3 methods gives a very similar result (approx. 0.2) as the one we calculated in the causal inference notebook where we estimate ATE with a meta learner."
   ]
  }
 ],
 "metadata": {
  "kernelspec": {
   "display_name": "Python 3",
   "language": "python",
   "name": "python3"
  },
  "language_info": {
   "codemirror_mode": {
    "name": "ipython",
    "version": 3
   },
   "file_extension": ".py",
   "mimetype": "text/x-python",
   "name": "python",
   "nbconvert_exporter": "python",
   "pygments_lexer": "ipython3",
   "version": "3.10.17"
  }
 },
 "nbformat": 4,
 "nbformat_minor": 5
}
